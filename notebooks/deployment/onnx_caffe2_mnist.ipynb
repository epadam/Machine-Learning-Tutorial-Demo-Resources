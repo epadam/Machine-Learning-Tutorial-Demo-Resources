{
  "nbformat": 4,
  "nbformat_minor": 0,
  "metadata": {
    "colab": {
      "name": "onnx_caffe2_mnist.ipynb",
      "provenance": [],
      "collapsed_sections": [],
      "authorship_tag": "ABX9TyNplZfWuVAa3RD/q2vdmz/Q",
      "include_colab_link": true
    },
    "kernelspec": {
      "name": "python3",
      "display_name": "Python 3"
    },
    "language_info": {
      "name": "python"
    }
  },
  "cells": [
    {
      "cell_type": "markdown",
      "metadata": {
        "id": "view-in-github",
        "colab_type": "text"
      },
      "source": [
        "<a href=\"https://colab.research.google.com/github/epadam/Machine-Learning-Tutorial-Demo-Resources/blob/master/notebooks/deployment/onnx_caffe2_mnist.ipynb\" target=\"_parent\"><img src=\"https://colab.research.google.com/assets/colab-badge.svg\" alt=\"Open In Colab\"/></a>"
      ]
    },
    {
      "cell_type": "code",
      "metadata": {
        "id": "UISN4qZAkNWR"
      },
      "source": [
        "import torch\n",
        "import torch.nn as nn\n",
        "import torch.nn.functional as F\n",
        "from torch.autograd import Variable\n",
        "from sklearn.model_selection import train_test_split\n",
        "import matplotlib.pyplot as plt"
      ],
      "execution_count": 1,
      "outputs": []
    },
    {
      "cell_type": "code",
      "metadata": {
        "colab": {
          "base_uri": "https://localhost:8080/"
        },
        "id": "Wp7kyatakqiZ",
        "outputId": "4cc2290d-a160-43c1-a4a1-0880dd4e5214"
      },
      "source": [
        "from keras.datasets import mnist\n",
        "(X_train, Y_train), (X_test, Y_test) = mnist.load_data()"
      ],
      "execution_count": 2,
      "outputs": [
        {
          "output_type": "stream",
          "name": "stdout",
          "text": [
            "Downloading data from https://storage.googleapis.com/tensorflow/tf-keras-datasets/mnist.npz\n",
            "11493376/11490434 [==============================] - 0s 0us/step\n",
            "11501568/11490434 [==============================] - 0s 0us/step\n"
          ]
        }
      ]
    },
    {
      "cell_type": "code",
      "metadata": {
        "id": "CdviUM9dkwMI"
      },
      "source": [
        "X_train = X_train.astype('float32') / 255\n",
        "X_test = X_test.astype('float32') / 255"
      ],
      "execution_count": 3,
      "outputs": []
    },
    {
      "cell_type": "code",
      "metadata": {
        "id": "TqH6imN0k72w"
      },
      "source": [
        "features_train, features_test, targets_train, targets_test = train_test_split(X_train, Y_train, test_size = 0.2, random_state = 42)"
      ],
      "execution_count": 4,
      "outputs": []
    },
    {
      "cell_type": "code",
      "metadata": {
        "id": "ov7ri4mak_Vt"
      },
      "source": [
        "featuresTrain = torch.from_numpy(features_train)\n",
        "targetsTrain = torch.from_numpy(targets_train).type(torch.LongTensor) # data type is long\n",
        "\n",
        "featuresTest = torch.from_numpy(features_test)\n",
        "targetsTest = torch.from_numpy(targets_test).type(torch.LongTensor)"
      ],
      "execution_count": 5,
      "outputs": []
    },
    {
      "cell_type": "code",
      "metadata": {
        "id": "nMVTSVghlKp9"
      },
      "source": [
        "# Pytorch train and test TensorDataset\n",
        "train = torch.utils.data.TensorDataset(featuresTrain,targetsTrain)\n",
        "test = torch.utils.data.TensorDataset(featuresTest,targetsTest)"
      ],
      "execution_count": 6,
      "outputs": []
    },
    {
      "cell_type": "code",
      "metadata": {
        "id": "1Yfpci4xlQic"
      },
      "source": [
        "# Hyper Parameters\n",
        "# batch_size, epoch and iteration\n",
        "LR = 0.01\n",
        "batch_size = 100\n",
        "n_iters = 10000\n",
        "num_epochs = n_iters / (len(features_train) / batch_size)\n",
        "num_epochs = int(num_epochs)"
      ],
      "execution_count": 7,
      "outputs": []
    },
    {
      "cell_type": "code",
      "metadata": {
        "id": "76oV3arIlSc3"
      },
      "source": [
        "train_loader = torch.utils.data.DataLoader(train, batch_size = batch_size, shuffle = True)\n",
        "test_loader = torch.utils.data.DataLoader(test, batch_size = batch_size, shuffle = True)"
      ],
      "execution_count": 8,
      "outputs": []
    },
    {
      "cell_type": "code",
      "metadata": {
        "id": "uLXGZssLlchG"
      },
      "source": [
        "class CNN_Model(nn.Module):\n",
        "    def __init__(self):\n",
        "        super(CNN_Model, self).__init__()\n",
        "        # Convolution 1 , input_shape=(1,28,28)\n",
        "        self.cnn1 = nn.Conv2d(in_channels=1, out_channels=16, kernel_size=5, stride=1, padding=0) #output_shape=(16,24,24)\n",
        "        self.relu1 = nn.ReLU() # activation\n",
        "        # Max pool 1\n",
        "        self.maxpool1 = nn.MaxPool2d(kernel_size=2) #output_shape=(16,12,12)\n",
        "        # Convolution 2\n",
        "        self.cnn2 = nn.Conv2d(in_channels=16, out_channels=32, kernel_size=5, stride=1, padding=0) #output_shape=(32,8,8)\n",
        "        self.relu2 = nn.ReLU() # activation\n",
        "        # Max pool 2\n",
        "        self.maxpool2 = nn.MaxPool2d(kernel_size=2) #output_shape=(32,4,4)\n",
        "        # Fully connected 1 ,#input_shape=(32*4*4)\n",
        "        self.fc1 = nn.Linear(32 * 4 * 4, 10) \n",
        "    \n",
        "    def forward(self, x):\n",
        "        # Convolution 1\n",
        "        out = self.cnn1(x)\n",
        "        out = self.relu1(out)\n",
        "        # Max pool 1\n",
        "        out = self.maxpool1(out)\n",
        "        # Convolution 2 \n",
        "        out = self.cnn2(out)\n",
        "        out = self.relu2(out)\n",
        "        # Max pool 2 \n",
        "        out = self.maxpool2(out)\n",
        "        out = out.view(out.size(0), -1)\n",
        "        # Linear function (readout)\n",
        "        out = self.fc1(out)\n",
        "        return out"
      ],
      "execution_count": 9,
      "outputs": []
    },
    {
      "cell_type": "code",
      "metadata": {
        "colab": {
          "base_uri": "https://localhost:8080/"
        },
        "id": "XNWA8lz5lf4e",
        "outputId": "c0a5e9e5-aead-488b-a0f2-ae06298b212f"
      },
      "source": [
        "model = CNN_Model()\n",
        "print(model)\n",
        "optimizer = torch.optim.Adam(model.parameters(), lr=LR)   # optimize all cnn parameters\n",
        "loss_func = nn.CrossEntropyLoss()   # the target label is not one-hotted\n",
        "input_shape = (-1,1,28,28)"
      ],
      "execution_count": 10,
      "outputs": [
        {
          "output_type": "stream",
          "name": "stdout",
          "text": [
            "CNN_Model(\n",
            "  (cnn1): Conv2d(1, 16, kernel_size=(5, 5), stride=(1, 1))\n",
            "  (relu1): ReLU()\n",
            "  (maxpool1): MaxPool2d(kernel_size=2, stride=2, padding=0, dilation=1, ceil_mode=False)\n",
            "  (cnn2): Conv2d(16, 32, kernel_size=(5, 5), stride=(1, 1))\n",
            "  (relu2): ReLU()\n",
            "  (maxpool2): MaxPool2d(kernel_size=2, stride=2, padding=0, dilation=1, ceil_mode=False)\n",
            "  (fc1): Linear(in_features=512, out_features=10, bias=True)\n",
            ")\n"
          ]
        }
      ]
    },
    {
      "cell_type": "code",
      "metadata": {
        "id": "sW3UINxvlmu0"
      },
      "source": [
        "def fit_model(model, loss_func, optimizer, input_shape, num_epochs, train_loader, test_loader):\n",
        "    # Traning the Model\n",
        "    #history-like list for store loss & acc value\n",
        "    training_loss = []\n",
        "    training_accuracy = []\n",
        "    validation_loss = []\n",
        "    validation_accuracy = []\n",
        "    for epoch in range(num_epochs):\n",
        "        #training model & store loss & acc / epoch\n",
        "        correct_train = 0\n",
        "        total_train = 0\n",
        "        for i, (images, labels) in enumerate(train_loader):\n",
        "            # 1.Define variables\n",
        "            train = Variable(images.view(input_shape))\n",
        "            labels = Variable(labels)\n",
        "            # 2.Clear gradients\n",
        "            optimizer.zero_grad()\n",
        "            # 3.Forward propagation\n",
        "            outputs = model(train)\n",
        "            # 4.Calculate softmax and cross entropy loss\n",
        "            train_loss = loss_func(outputs, labels)\n",
        "            # 5.Calculate gradients\n",
        "            train_loss.backward()\n",
        "            # 6.Update parameters\n",
        "            optimizer.step()\n",
        "            # 7.Get predictions from the maximum value\n",
        "            predicted = torch.max(outputs.data, 1)[1]\n",
        "            # 8.Total number of labels\n",
        "            total_train += len(labels)\n",
        "            # 9.Total correct predictions\n",
        "            correct_train += (predicted == labels).float().sum()\n",
        "        #10.store val_acc / epoch\n",
        "        train_accuracy = 100 * correct_train / float(total_train)\n",
        "        training_accuracy.append(train_accuracy)\n",
        "        # 11.store loss / epoch\n",
        "        training_loss.append(train_loss.data)\n",
        "\n",
        "        #evaluate model & store loss & acc / epoch\n",
        "        correct_test = 0\n",
        "        total_test = 0\n",
        "        for images, labels in test_loader:\n",
        "            # 1.Define variables\n",
        "            test = Variable(images.view(input_shape))\n",
        "            # 2.Forward propagation\n",
        "            outputs = model(test)\n",
        "            # 3.Calculate softmax and cross entropy loss\n",
        "            val_loss = loss_func(outputs, labels)\n",
        "            # 4.Get predictions from the maximum value\n",
        "            predicted = torch.max(outputs.data, 1)[1]\n",
        "            # 5.Total number of labels\n",
        "            total_test += len(labels)\n",
        "            # 6.Total correct predictions\n",
        "            correct_test += (predicted == labels).float().sum()\n",
        "        #6.store val_acc / epoch\n",
        "        val_accuracy = 100 * correct_test / float(total_test)\n",
        "        validation_accuracy.append(val_accuracy)\n",
        "        # 11.store val_loss / epoch\n",
        "        validation_loss.append(val_loss.data)\n",
        "        print('Train Epoch: {}/{} Traing_Loss: {} Traing_acc: {:.6f}% Val_Loss: {} Val_accuracy: {:.6f}%'.format(epoch+1, num_epochs, train_loss.data, train_accuracy, val_loss.data, val_accuracy))\n",
        "    return training_loss, training_accuracy, validation_loss, validation_accuracy"
      ],
      "execution_count": 11,
      "outputs": []
    },
    {
      "cell_type": "code",
      "metadata": {
        "colab": {
          "base_uri": "https://localhost:8080/"
        },
        "id": "N8-rqFXzlqFU",
        "outputId": "8d377c8d-4100-4314-fc45-454837f96bb6"
      },
      "source": [
        "training_loss, training_accuracy, validation_loss, validation_accuracy = fit_model(model, loss_func, optimizer, input_shape, num_epochs, train_loader, test_loader)"
      ],
      "execution_count": 12,
      "outputs": [
        {
          "output_type": "stream",
          "name": "stderr",
          "text": [
            "/usr/local/lib/python3.7/dist-packages/torch/nn/functional.py:718: UserWarning: Named tensors and all their associated APIs are an experimental feature and subject to change. Please do not use them for anything important until they are released as stable. (Triggered internally at  /pytorch/c10/core/TensorImpl.h:1156.)\n",
            "  return torch.max_pool2d(input, kernel_size, stride, padding, dilation, ceil_mode)\n"
          ]
        },
        {
          "output_type": "stream",
          "name": "stdout",
          "text": [
            "Train Epoch: 1/20 Traing_Loss: 0.13046692311763763 Traing_acc: 94.218750% Val_Loss: 0.03490155562758446 Val_accuracy: 97.474998%\n",
            "Train Epoch: 2/20 Traing_Loss: 0.07042282819747925 Traing_acc: 97.837502% Val_Loss: 0.016166530549526215 Val_accuracy: 98.141670%\n",
            "Train Epoch: 3/20 Traing_Loss: 0.05489964038133621 Traing_acc: 98.343750% Val_Loss: 0.0808602124452591 Val_accuracy: 97.916664%\n",
            "Train Epoch: 4/20 Traing_Loss: 0.005935595836490393 Traing_acc: 98.485420% Val_Loss: 0.05777639523148537 Val_accuracy: 98.525002%\n",
            "Train Epoch: 5/20 Traing_Loss: 0.011292991228401661 Traing_acc: 98.645836% Val_Loss: 0.05042314529418945 Val_accuracy: 98.349998%\n",
            "Train Epoch: 6/20 Traing_Loss: 0.015227936208248138 Traing_acc: 98.577080% Val_Loss: 0.041028499603271484 Val_accuracy: 98.158333%\n",
            "Train Epoch: 7/20 Traing_Loss: 0.0042588720098137856 Traing_acc: 98.793747% Val_Loss: 0.06232406571507454 Val_accuracy: 98.266670%\n",
            "Train Epoch: 8/20 Traing_Loss: 0.035227272659540176 Traing_acc: 98.812500% Val_Loss: 0.112948477268219 Val_accuracy: 98.041664%\n",
            "Train Epoch: 9/20 Traing_Loss: 0.0197684895247221 Traing_acc: 98.722916% Val_Loss: 0.0625191181898117 Val_accuracy: 98.216667%\n",
            "Train Epoch: 10/20 Traing_Loss: 0.07242249697446823 Traing_acc: 98.983330% Val_Loss: 0.033113595098257065 Val_accuracy: 98.416664%\n",
            "Train Epoch: 11/20 Traing_Loss: 0.021436138078570366 Traing_acc: 98.931252% Val_Loss: 0.07782632112503052 Val_accuracy: 98.416664%\n",
            "Train Epoch: 12/20 Traing_Loss: 0.03608020395040512 Traing_acc: 99.029167% Val_Loss: 0.10260815918445587 Val_accuracy: 98.291664%\n",
            "Train Epoch: 13/20 Traing_Loss: 0.0006822829018346965 Traing_acc: 98.929169% Val_Loss: 0.06892979890108109 Val_accuracy: 98.341667%\n",
            "Train Epoch: 14/20 Traing_Loss: 0.17258787155151367 Traing_acc: 99.047920% Val_Loss: 0.05326364189386368 Val_accuracy: 97.925003%\n",
            "Train Epoch: 15/20 Traing_Loss: 0.14557594060897827 Traing_acc: 98.906250% Val_Loss: 0.054786235094070435 Val_accuracy: 98.208336%\n",
            "Train Epoch: 16/20 Traing_Loss: 0.0628264844417572 Traing_acc: 99.041664% Val_Loss: 0.15576381981372833 Val_accuracy: 98.224998%\n",
            "Train Epoch: 17/20 Traing_Loss: 0.025471718981862068 Traing_acc: 98.981247% Val_Loss: 0.12079557776451111 Val_accuracy: 98.199997%\n",
            "Train Epoch: 18/20 Traing_Loss: 0.020766323432326317 Traing_acc: 99.183334% Val_Loss: 0.02827438898384571 Val_accuracy: 98.316666%\n",
            "Train Epoch: 19/20 Traing_Loss: 0.043042268604040146 Traing_acc: 99.016670% Val_Loss: 0.03925172984600067 Val_accuracy: 97.866669%\n",
            "Train Epoch: 20/20 Traing_Loss: 0.013996013440191746 Traing_acc: 99.087502% Val_Loss: 0.09214053303003311 Val_accuracy: 98.275002%\n"
          ]
        }
      ]
    },
    {
      "cell_type": "code",
      "metadata": {
        "colab": {
          "base_uri": "https://localhost:8080/",
          "height": 573
        },
        "id": "1uNd4ArOlth3",
        "outputId": "0899fda1-cb68-4a34-aea3-fc4b869d86dd"
      },
      "source": [
        "# visualization\n",
        "plt.plot(range(num_epochs), training_loss, 'b-', label='Training_loss')\n",
        "plt.plot(range(num_epochs), validation_loss, 'g-', label='validation_loss')\n",
        "plt.title('Training & Validation loss')\n",
        "plt.xlabel('Number of epochs')\n",
        "plt.ylabel('Loss')\n",
        "plt.legend()\n",
        "plt.show()\n",
        "plt.plot(range(num_epochs), training_accuracy, 'b-', label='Training_accuracy')\n",
        "plt.plot(range(num_epochs), validation_accuracy, 'g-', label='Validation_accuracy')\n",
        "plt.title('Training & Validation accuracy')\n",
        "plt.xlabel('Number of epochs')\n",
        "plt.ylabel('Accuracy')\n",
        "plt.legend()\n",
        "plt.show()"
      ],
      "execution_count": 13,
      "outputs": [
        {
          "output_type": "display_data",
          "data": {
            "image/png": "[encoded data removed]",
            "text/plain": [
              "<Figure size 432x288 with 1 Axes>"
            ]
          },
          "metadata": {
            "needs_background": "light"
          }
        },
        {
          "output_type": "display_data",
          "data": {
            "image/png": "[encoded data removed]",
            "text/plain": [
              "<Figure size 432x288 with 1 Axes>"
            ]
          },
          "metadata": {
            "needs_background": "light"
          }
        }
      ]
    },
    {
      "cell_type": "code",
      "metadata": {
        "id": "EGwvAQ5snNfJ"
      },
      "source": [
        "def torch2onnx(model, save_path):\n",
        "  model.eval()\n",
        "  data = torch.rand(1, 3, 28, 28)\n",
        "  input_names = ['inputs']\n",
        "  output_names = ['cls', 'lmk']\n",
        "  torch.onnx._export(model, data, save_path, export_params=True, opset_version=11, input_names=input_names, out_names= output_names)"
      ],
      "execution_count": 16,
      "outputs": []
    },
    {
      "cell_type": "code",
      "metadata": {
        "colab": {
          "base_uri": "https://localhost:8080/"
        },
        "id": "BdaFfZerp8EO",
        "outputId": "1d9a0e7f-9b42-474d-961a-4d91caeee5df"
      },
      "source": [
        "!pip install onnxruntime"
      ],
      "execution_count": 15,
      "outputs": [
        {
          "output_type": "stream",
          "name": "stdout",
          "text": [
            "Collecting onnxruntime\n",
            "  Downloading onnxruntime-1.9.0-cp37-cp37m-manylinux_2_17_x86_64.manylinux2014_x86_64.whl (4.8 MB)\n",
            "\u001b[K     |████████████████████████████████| 4.8 MB 10.0 MB/s \n",
            "\u001b[?25hRequirement already satisfied: numpy>=1.16.6 in /usr/local/lib/python3.7/dist-packages (from onnxruntime) (1.19.5)\n",
            "Requirement already satisfied: protobuf in /usr/local/lib/python3.7/dist-packages (from onnxruntime) (3.17.3)\n",
            "Requirement already satisfied: flatbuffers in /usr/local/lib/python3.7/dist-packages (from onnxruntime) (1.12)\n",
            "Requirement already satisfied: six>=1.9 in /usr/local/lib/python3.7/dist-packages (from protobuf->onnxruntime) (1.15.0)\n",
            "Installing collected packages: onnxruntime\n",
            "Successfully installed onnxruntime-1.9.0\n"
          ]
        }
      ]
    },
    {
      "cell_type": "code",
      "metadata": {
        "id": "OcQS9cpZqSct"
      },
      "source": [
        "import caffe2.python.onnx.backend as backend\n",
        "import onnx\n"
      ],
      "execution_count": null,
      "outputs": []
    }
  ]
}