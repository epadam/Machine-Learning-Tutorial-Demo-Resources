{
  "nbformat": 4,
  "nbformat_minor": 0,
  "metadata": {
    "colab": {
      "name": "SST-5_RNN.ipynb",
      "provenance": [],
      "authorship_tag": "ABX9TyNv2keROH6EJgDgyjCtMpso",
      "include_colab_link": true
    },
    "kernelspec": {
      "name": "python3",
      "display_name": "Python 3"
    },
    "language_info": {
      "name": "python"
    },
    "accelerator": "TPU"
  },
  "cells": [
    {
      "cell_type": "markdown",
      "metadata": {
        "id": "view-in-github",
        "colab_type": "text"
      },
      "source": [
        "<a href=\"https://colab.research.google.com/github/epadam/Machine-Learning-Tutorial-Demo-Resources/blob/master/notebooks/nlp/SST_5_RNN.ipynb\" target=\"_parent\"><img src=\"https://colab.research.google.com/assets/colab-badge.svg\" alt=\"Open In Colab\"/></a>"
      ]
    },
    {
      "cell_type": "markdown",
      "metadata": {
        "id": "8o5xFaVZlqM3"
      },
      "source": [
        "We are using RNN for SST-5 dataset  sentiment analysis in the notebook."
      ]
    },
    {
      "cell_type": "markdown",
      "metadata": {
        "id": "dokCjI4gnGIz"
      },
      "source": [
        "First download the dataset and unzip the file."
      ]
    },
    {
      "cell_type": "code",
      "metadata": {
        "colab": {
          "base_uri": "https://localhost:8080/"
        },
        "id": "PAYYLnO7PWgB",
        "outputId": "a06dcb9b-8844-4073-db56-d3360ec4a067"
      },
      "source": [
        "!wget \"https://nlp.stanford.edu/~socherr/stanfordSentimentTreebank.zip\"\n",
        "!unzip /content/stanfordSentimentTreebank.zip "
      ],
      "execution_count": 4,
      "outputs": [
        {
          "output_type": "stream",
          "name": "stdout",
          "text": [
            "--2021-09-13 00:49:57--  https://nlp.stanford.edu/~socherr/stanfordSentimentTreebank.zip\n",
            "Resolving nlp.stanford.edu (nlp.stanford.edu)... 171.64.67.140\n",
            "Connecting to nlp.stanford.edu (nlp.stanford.edu)|171.64.67.140|:443... connected.\n",
            "HTTP request sent, awaiting response... 200 OK\n",
            "Length: 6372817 (6.1M) [application/zip]\n",
            "Saving to: ‘stanfordSentimentTreebank.zip.1’\n",
            "\n",
            "stanfordSentimentTr 100%[===================>]   6.08M  8.85MB/s    in 0.7s    \n",
            "\n",
            "2021-09-13 00:49:58 (8.85 MB/s) - ‘stanfordSentimentTreebank.zip.1’ saved [6372817/6372817]\n",
            "\n",
            "Archive:  /content/stanfordSentimentTreebank.zip\n",
            "replace stanfordSentimentTreebank/datasetSentences.txt? [y]es, [n]o, [A]ll, [N]one, [r]ename: n\n",
            "replace __MACOSX/stanfordSentimentTreebank/._datasetSentences.txt? [y]es, [n]o, [A]ll, [N]one, [r]ename: N\n"
          ]
        }
      ]
    },
    {
      "cell_type": "markdown",
      "metadata": {
        "id": "leO4IqVoopVa"
      },
      "source": [
        ""
      ]
    },
    {
      "cell_type": "code",
      "metadata": {
        "id": "mZnNeAAzpUlV"
      },
      "source": [
        "import os\n",
        "import sys\n",
        "from tensorflow.keras import *"
      ],
      "execution_count": 10,
      "outputs": []
    },
    {
      "cell_type": "code",
      "metadata": {
        "id": "9cETrov0oo9P"
      },
      "source": [
        "out_path = os.path.join(sys.path[0], 'sst_{}.txt')"
      ],
      "execution_count": 9,
      "outputs": []
    }
  ]
}