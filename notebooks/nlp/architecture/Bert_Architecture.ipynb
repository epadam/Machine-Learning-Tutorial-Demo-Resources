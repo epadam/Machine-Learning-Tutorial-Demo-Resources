{
  "nbformat": 4,
  "nbformat_minor": 0,
  "metadata": {
    "colab": {
      "name": "Bert_Architecture.ipynb",
      "provenance": [],
      "authorship_tag": "ABX9TyMNp0eUZ8u48SOxTb322RpV",
      "include_colab_link": true
    },
    "kernelspec": {
      "name": "python3",
      "display_name": "Python 3"
    },
    "language_info": {
      "name": "python"
    }
  },
  "cells": [
    {
      "cell_type": "markdown",
      "metadata": {
        "id": "view-in-github",
        "colab_type": "text"
      },
      "source": [
        "<a href=\"https://colab.research.google.com/github/epadam/Machine-Learning-Tutorial-Demo-Resources/blob/master/notebooks/nlp/Bert_Architecture.ipynb\" target=\"_parent\"><img src=\"https://colab.research.google.com/assets/colab-badge.svg\" alt=\"Open In Colab\"/></a>"
      ]
    },
    {
      "cell_type": "code",
      "metadata": {
        "id": "cQT0V5Wt2BQb"
      },
      "source": [
        "import nn"
      ],
      "execution_count": null,
      "outputs": []
    },
    {
      "cell_type": "markdown",
      "metadata": {
        "id": "tdqgDaaA3GVy"
      },
      "source": [
        "Pytorch Version"
      ]
    },
    {
      "cell_type": "code",
      "metadata": {
        "id": "oz7p-KeF2L-L"
      },
      "source": [
        "class Attention"
      ],
      "execution_count": null,
      "outputs": []
    },
    {
      "cell_type": "code",
      "metadata": {
        "id": "WJB2mC4_201Q"
      },
      "source": [
        "class Encoder-Layer"
      ],
      "execution_count": null,
      "outputs": []
    },
    {
      "cell_type": "code",
      "metadata": {
        "id": "Uhsm0CXG26w8"
      },
      "source": [
        "class Bert"
      ],
      "execution_count": null,
      "outputs": []
    },
    {
      "cell_type": "markdown",
      "metadata": {
        "id": "GeTpqrM83Km0"
      },
      "source": [
        "Tensorflow Version"
      ]
    }
  ]
}
