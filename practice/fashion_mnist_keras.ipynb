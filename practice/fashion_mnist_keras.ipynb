{
  "nbformat": 4,
  "nbformat_minor": 0,
  "metadata": {
    "colab": {
      "name": "[14]fashion_mnist_keras.ipynb",
      "provenance": [],
      "collapsed_sections": [],
      "toc_visible": true,
      "include_colab_link": true
    },
    "kernelspec": {
      "name": "python3",
      "display_name": "Python 3"
    },
    "accelerator": "GPU"
  },
  "cells": [
    {
      "cell_type": "markdown",
      "metadata": {
        "id": "view-in-github",
        "colab_type": "text"
      },
      "source": [
        "<a href=\"https://colab.research.google.com/github/epadam/machine-learning-practice/blob/master/practice/fashion_mnist_keras.ipynb\" target=\"_parent\"><img src=\"https://colab.research.google.com/assets/colab-badge.svg\" alt=\"Open In Colab\"/></a>"
      ]
    },
    {
      "cell_type": "code",
      "metadata": {
        "id": "UfFHAmsOg7fc",
        "colab_type": "code",
        "colab": {
          "base_uri": "https://localhost:8080/",
          "height": 207
        },
        "outputId": "3c4fc8cb-6f0e-42b8-bf18-ef617172d141"
      },
      "source": [
        "!pip install --user keras-importance-sampling\n",
        "import keras"
      ],
      "execution_count": 26,
      "outputs": [
        {
          "output_type": "stream",
          "text": [
            "Requirement already satisfied: keras-importance-sampling in /root/.local/lib/python3.6/site-packages (0.9)\n",
            "Requirement already satisfied: blinker in /root/.local/lib/python3.6/site-packages (from keras-importance-sampling) (1.4)\n",
            "Requirement already satisfied: numpy in /usr/local/lib/python3.6/dist-packages (from keras-importance-sampling) (1.17.4)\n",
            "Requirement already satisfied: keras>=2 in /usr/local/lib/python3.6/dist-packages (from keras-importance-sampling) (2.2.5)\n",
            "Requirement already satisfied: six>=1.9.0 in /usr/local/lib/python3.6/dist-packages (from keras>=2->keras-importance-sampling) (1.12.0)\n",
            "Requirement already satisfied: h5py in /usr/local/lib/python3.6/dist-packages (from keras>=2->keras-importance-sampling) (2.8.0)\n",
            "Requirement already satisfied: pyyaml in /usr/local/lib/python3.6/dist-packages (from keras>=2->keras-importance-sampling) (3.13)\n",
            "Requirement already satisfied: scipy>=0.14 in /usr/local/lib/python3.6/dist-packages (from keras>=2->keras-importance-sampling) (1.3.2)\n",
            "Requirement already satisfied: keras-preprocessing>=1.1.0 in /usr/local/lib/python3.6/dist-packages (from keras>=2->keras-importance-sampling) (1.1.0)\n",
            "Requirement already satisfied: keras-applications>=1.0.8 in /usr/local/lib/python3.6/dist-packages (from keras>=2->keras-importance-sampling) (1.0.8)\n"
          ],
          "name": "stdout"
        }
      ]
    },
    {
      "cell_type": "code",
      "metadata": {
        "id": "d44TznbgZZgm",
        "colab_type": "code",
        "outputId": "248bbf8e-febe-4351-d0bf-3fa4fb35ae83",
        "colab": {
          "base_uri": "https://localhost:8080/",
          "height": 404
        }
      },
      "source": [
        "!pip install -q -U tensorflow>=1.8.0\n",
        "!pip install blinker\n",
        "import tensorflow as tf\n",
        "\n",
        "\n",
        "import numpy as np\n",
        "import matplotlib.pyplot as plt\n",
        "import IPython.display\n",
        "from importance_sampling.training import ImportanceTraining\n",
        "\n",
        "# Load the fashion-mnist pre-shuffled train data and test data\n",
        "(x_train, y_train), (x_test, y_test) = tf.keras.datasets.fashion_mnist.load_data()\n",
        "\n",
        "print(\"x_train shape:\", x_train.shape, \"y_train shape:\", y_train.shape)"
      ],
      "execution_count": 27,
      "outputs": [
        {
          "output_type": "stream",
          "text": [
            "Requirement already satisfied: blinker in /root/.local/lib/python3.6/site-packages (1.4)\n"
          ],
          "name": "stdout"
        },
        {
          "output_type": "error",
          "ename": "ModuleNotFoundError",
          "evalue": "ignored",
          "traceback": [
            "\u001b[0;31m---------------------------------------------------------------------------\u001b[0m",
            "\u001b[0;31mModuleNotFoundError\u001b[0m                       Traceback (most recent call last)",
            "\u001b[0;32m<ipython-input-27-94f2447c13e8>\u001b[0m in \u001b[0;36m<module>\u001b[0;34m()\u001b[0m\n\u001b[1;32m      7\u001b[0m \u001b[0;32mimport\u001b[0m \u001b[0mmatplotlib\u001b[0m\u001b[0;34m.\u001b[0m\u001b[0mpyplot\u001b[0m \u001b[0;32mas\u001b[0m \u001b[0mplt\u001b[0m\u001b[0;34m\u001b[0m\u001b[0;34m\u001b[0m\u001b[0m\n\u001b[1;32m      8\u001b[0m \u001b[0;32mimport\u001b[0m \u001b[0mIPython\u001b[0m\u001b[0;34m.\u001b[0m\u001b[0mdisplay\u001b[0m\u001b[0;34m\u001b[0m\u001b[0;34m\u001b[0m\u001b[0m\n\u001b[0;32m----> 9\u001b[0;31m \u001b[0;32mfrom\u001b[0m \u001b[0mimportance_sampling\u001b[0m\u001b[0;34m.\u001b[0m\u001b[0mtraining\u001b[0m \u001b[0;32mimport\u001b[0m \u001b[0mImportanceTraining\u001b[0m\u001b[0;34m\u001b[0m\u001b[0;34m\u001b[0m\u001b[0m\n\u001b[0m\u001b[1;32m     10\u001b[0m \u001b[0;34m\u001b[0m\u001b[0m\n\u001b[1;32m     11\u001b[0m \u001b[0;31m# Load the fashion-mnist pre-shuffled train data and test data\u001b[0m\u001b[0;34m\u001b[0m\u001b[0;34m\u001b[0m\u001b[0;34m\u001b[0m\u001b[0m\n",
            "\u001b[0;31mModuleNotFoundError\u001b[0m: No module named 'importance_sampling'",
            "",
            "\u001b[0;31m---------------------------------------------------------------------------\u001b[0;32m\nNOTE: If your import is failing due to a missing package, you can\nmanually install dependencies using either !pip or !apt.\n\nTo view examples of installing some common dependencies, click the\n\"Open Examples\" button below.\n\u001b[0;31m---------------------------------------------------------------------------\u001b[0m\n"
          ]
        }
      ]
    },
    {
      "cell_type": "code",
      "metadata": {
        "id": "aFe4wHGRFKle",
        "colab_type": "code",
        "outputId": "f9fd8236-9efc-4d0b-86bd-8ce6e7878709",
        "colab": {
          "base_uri": "https://localhost:8080/",
          "height": 350
        }
      },
      "source": [
        "# Print training set shape - note there are 60,000 training data of image size of 28x28, 60,000 train labels)\n",
        "print(\"x_train shape:\", x_train.shape, \"y_train shape:\", y_train.shape)\n",
        "\n",
        "# Print the number of training and test datasets\n",
        "print(x_train.shape[0], 'train set')\n",
        "print(x_test.shape[0], 'test set')\n",
        "\n",
        "# Define the text labels\n",
        "fashion_mnist_labels = [\"T-shirt/top\",  # index 0\n",
        "                        \"Trouser\",      # index 1\n",
        "                        \"Pullover\",     # index 2 \n",
        "                        \"Dress\",        # index 3 \n",
        "                        \"Coat\",         # index 4\n",
        "                        \"Sandal\",       # index 5\n",
        "                        \"Shirt\",        # index 6 \n",
        "                        \"Sneaker\",      # index 7 \n",
        "                        \"Bag\",          # index 8 \n",
        "                        \"Ankle boot\"]   # index 9\n",
        "\n",
        "# Image index, you can pick any number between 0 and 59,999\n",
        "img_index = 5\n",
        "# y_train contains the lables, ranging from 0 to 9\n",
        "label_index = y_train[img_index]\n",
        "# Print the label, for example 2 Pullover\n",
        "print (\"y = \" + str(label_index) + \" \" +(fashion_mnist_labels[label_index]))\n",
        "# # Show one of the images from the training dataset\n",
        "plt.imshow(x_train[img_index])"
      ],
      "execution_count": 12,
      "outputs": [
        {
          "output_type": "stream",
          "text": [
            "x_train shape: (60000, 28, 28) y_train shape: (60000,)\n",
            "60000 train set\n",
            "10000 test set\n",
            "y = 2 Pullover\n"
          ],
          "name": "stdout"
        },
        {
          "output_type": "execute_result",
          "data": {
            "text/plain": [
              "<matplotlib.image.AxesImage at 0x7f1300121048>"
            ]
          },
          "metadata": {
            "tags": []
          },
          "execution_count": 12
        },
        {
          "output_type": "display_data",
          "data": {
            "image/png": "[encoded data removed]",
            "text/plain": [
              "<Figure size 432x288 with 1 Axes>"
            ]
          },
          "metadata": {
            "tags": []
          }
        }
      ]
    },
    {
      "cell_type": "code",
      "metadata": {
        "id": "XNh5NIckZZgu",
        "colab_type": "code",
        "colab": {}
      },
      "source": [
        "x_train = x_train.astype('float32') / 255\n",
        "x_test = x_test.astype('float32') / 255"
      ],
      "execution_count": 0,
      "outputs": []
    },
    {
      "cell_type": "code",
      "metadata": {
        "id": "LMSg53fiZZgx",
        "colab_type": "code",
        "outputId": "21d2e980-59f7-42da-afda-d0376e379646",
        "colab": {
          "base_uri": "https://localhost:8080/",
          "height": 51
        }
      },
      "source": [
        "print(\"Number of train data - \" + str(len(x_train)))\n",
        "print(\"Number of test data - \" + str(len(x_test)))"
      ],
      "execution_count": 14,
      "outputs": [
        {
          "output_type": "stream",
          "text": [
            "Number of train data - 60000\n",
            "Number of test data - 10000\n"
          ],
          "name": "stdout"
        }
      ]
    },
    {
      "cell_type": "code",
      "metadata": {
        "id": "1ShU787gZZg0",
        "colab_type": "code",
        "outputId": "37f9e9ce-521a-4b53-9756-350901f34f6a",
        "colab": {
          "base_uri": "https://localhost:8080/",
          "height": 85
        }
      },
      "source": [
        "# Further break training data into train / validation sets (# put 5000 into validation set and keep remaining 55,000 for train)\n",
        "(x_train, x_valid) = x_train[5000:], x_train[:5000] \n",
        "(y_train, y_valid) = y_train[5000:], y_train[:5000]\n",
        "\n",
        "# Reshape input data from (28, 28) to (28, 28, 1)\n",
        "w, h = 28, 28\n",
        "x_train = x_train.reshape(x_train.shape[0], w, h, 1)\n",
        "x_valid = x_valid.reshape(x_valid.shape[0], w, h, 1)\n",
        "x_test = x_test.reshape(x_test.shape[0], w, h, 1)\n",
        "\n",
        "# One-hot encode the labels\n",
        "y_train = tf.keras.utils.to_categorical(y_train, 10)\n",
        "y_valid = tf.keras.utils.to_categorical(y_valid, 10)\n",
        "y_test = tf.keras.utils.to_categorical(y_test, 10)\n",
        "\n",
        "# Print training set shape\n",
        "print(\"x_train shape:\", x_train.shape, \"y_train shape:\", y_train.shape)\n",
        "\n",
        "# Print the number of training, validation, and test datasets\n",
        "print(x_train.shape[0], 'train set')\n",
        "print(x_valid.shape[0], 'validation set')\n",
        "print(x_test.shape[0], 'test set')"
      ],
      "execution_count": 15,
      "outputs": [
        {
          "output_type": "stream",
          "text": [
            "x_train shape: (55000, 28, 28, 1) y_train shape: (55000, 10)\n",
            "55000 train set\n",
            "5000 validation set\n",
            "10000 test set\n"
          ],
          "name": "stdout"
        }
      ]
    },
    {
      "cell_type": "code",
      "metadata": {
        "id": "QgTZ47SsZZg4",
        "colab_type": "code",
        "outputId": "acb602dc-9b81-4b9f-cf31-38310a6596d9",
        "colab": {
          "base_uri": "https://localhost:8080/",
          "height": 367
        }
      },
      "source": [
        "\n",
        "model = tf.keras.Sequential()\n",
        "\n",
        "\n",
        "# Must define the input shape in the first layer of the neural network\n",
        "model.add(tf.keras.layers.Conv2D(filters=64, kernel_size=2, padding='same', activation='relu', input_shape=(28,28,1))) \n",
        "model.add(tf.keras.layers.MaxPooling2D(pool_size=2))\n",
        "model.add(tf.keras.layers.Dropout(0.3))\n",
        "\n",
        "model.add(tf.keras.layers.Conv2D(filters=32, kernel_size=2, padding='same', activation='relu'))\n",
        "model.add(tf.keras.layers.MaxPooling2D(pool_size=2))\n",
        "model.add(tf.keras.layers.Dropout(0.3))\n",
        "\n",
        "model.add(tf.keras.layers.Flatten())\n",
        "model.add(tf.keras.layers.Dense(256, activation='relu'))\n",
        "model.add(tf.keras.layers.Dropout(0.5))\n",
        "model.add(tf.keras.layers.Dense(10))\n",
        "model.add(tf.keras.layers.Activation(\"softmax\"))\n",
        "\n",
        "# Take a look at the model summary\n",
        "model.summary()\n",
        "'''\n",
        "model_large = tf.keras.models.Sequential()\n",
        "model_large.add(tf.keras.layers.BatchNormalization(input_shape=x_train.shape[1:]))\n",
        "model_large.add(tf.keras.layers.Conv2D(64, (5, 5), padding='same', activation='elu'))\n",
        "model_large.add(tf.keras.layers.MaxPooling2D(pool_size=(2, 2), strides=(2,2)))\n",
        "model_large.add(tf.keras.layers.Dropout(0.25))\n",
        "\n",
        "model_large.add(tf.keras.layers.BatchNormalization(input_shape=x_train.shape[1:]))\n",
        "model_large.add(tf.keras.layers.Conv2D(128, (5, 5), padding='same', activation='elu'))\n",
        "model_large.add(tf.keras.layers.MaxPooling2D(pool_size=(2, 2)))\n",
        "model_large.add(tf.keras.layers.Dropout(0.25))\n",
        "\n",
        "model_large.add(tf.keras.layers.BatchNormalization(input_shape=x_train.shape[1:]))\n",
        "model_large.add(tf.keras.layers.Conv2D(256, (5, 5), padding='same', activation='elu'))\n",
        "model_large.add(tf.keras.layers.MaxPooling2D(pool_size=(2, 2), strides=(2,2)))\n",
        "model_large.add(tf.keras.layers.Dropout(0.25))\n",
        "\n",
        "model_large.add(tf.keras.layers.Flatten())\n",
        "model_large.add(tf.keras.layers.Dense(256))\n",
        "model_large.add(tf.keras.layers.Activation('elu'))\n",
        "model_large.add(tf.keras.layers.Dropout(0.5))\n",
        "model_large.add(tf.keras.layers.Dense(10))\n",
        "model_large.add(tf.keras.layers.Activation('softmax'))\n",
        "model_large.summary()\n",
        "'''"
      ],
      "execution_count": 16,
      "outputs": [
        {
          "output_type": "error",
          "ename": "ModuleNotFoundError",
          "evalue": "ignored",
          "traceback": [
            "\u001b[0;31m---------------------------------------------------------------------------\u001b[0m",
            "\u001b[0;31mModuleNotFoundError\u001b[0m                       Traceback (most recent call last)",
            "\u001b[0;32m<ipython-input-16-9c17a3a4c709>\u001b[0m in \u001b[0;36m<module>\u001b[0;34m()\u001b[0m\n\u001b[1;32m      2\u001b[0m \u001b[0mmodel\u001b[0m \u001b[0;34m=\u001b[0m \u001b[0mtf\u001b[0m\u001b[0;34m.\u001b[0m\u001b[0mkeras\u001b[0m\u001b[0;34m.\u001b[0m\u001b[0mSequential\u001b[0m\u001b[0;34m(\u001b[0m\u001b[0;34m)\u001b[0m\u001b[0;34m\u001b[0m\u001b[0;34m\u001b[0m\u001b[0m\n\u001b[1;32m      3\u001b[0m \u001b[0;34m\u001b[0m\u001b[0m\n\u001b[0;32m----> 4\u001b[0;31m \u001b[0;32mfrom\u001b[0m \u001b[0mimportance_sampling\u001b[0m\u001b[0;34m.\u001b[0m\u001b[0mtraining\u001b[0m \u001b[0;32mimport\u001b[0m \u001b[0mImportanceTraining\u001b[0m\u001b[0;34m\u001b[0m\u001b[0;34m\u001b[0m\u001b[0m\n\u001b[0m\u001b[1;32m      5\u001b[0m \u001b[0;34m\u001b[0m\u001b[0m\n\u001b[1;32m      6\u001b[0m \u001b[0;31m# Must define the input shape in the first layer of the neural network\u001b[0m\u001b[0;34m\u001b[0m\u001b[0;34m\u001b[0m\u001b[0;34m\u001b[0m\u001b[0m\n",
            "\u001b[0;31mModuleNotFoundError\u001b[0m: No module named 'importance_sampling'",
            "",
            "\u001b[0;31m---------------------------------------------------------------------------\u001b[0;32m\nNOTE: If your import is failing due to a missing package, you can\nmanually install dependencies using either !pip or !apt.\n\nTo view examples of installing some common dependencies, click the\n\"Open Examples\" button below.\n\u001b[0;31m---------------------------------------------------------------------------\u001b[0m\n"
          ]
        }
      ]
    },
    {
      "cell_type": "markdown",
      "metadata": {
        "id": "FhxJ5dinZZg8",
        "colab_type": "text"
      },
      "source": [
        "## 編譯模型\n",
        "\n",
        "模型在定義好後需要編譯，編譯在這的意思是將參數的值做初始化。在編譯前必須設定好以下三個參數:\n",
        "\n",
        "*   An optimizer - SGD或ADAM等梯度下降法\n",
        "*   A loss function  - 損失函數，為資料與產生之預測的距離加總\n",
        "*   A list of metrics  - 使用何種指標\n"
      ]
    },
    {
      "cell_type": "code",
      "metadata": {
        "id": "CQUlOa8cZZg9",
        "colab_type": "code",
        "colab": {}
      },
      "source": [
        "model.compile(loss='categorical_crossentropy',\n",
        "             optimizer='adam',\n",
        "             metrics=['accuracy'])\n",
        "\n",
        "model_large.compile(loss='categorical_crossentropy',\n",
        "             optimizer='adam',\n",
        "             metrics=['accuracy'])"
      ],
      "execution_count": 0,
      "outputs": []
    },
    {
      "cell_type": "markdown",
      "metadata": {
        "id": "DtOvh3YVZZg_",
        "colab_type": "text"
      },
      "source": [
        "## 訓練模型\n",
        "\n",
        "編譯好後就可以將資料對這模型配適，使用fit().\n",
        "\n",
        "我們預計進行10個回合的訓練，並將每回合的半成品模型收編建檔。\n",
        "[ModelCheckpoint](https://keras.io/callbacks/#modelcheckpoint) 模型只會在有最佳的validation準確度上進行update.\n"
      ]
    },
    {
      "cell_type": "code",
      "metadata": {
        "id": "ZTmapAttZZhA",
        "colab_type": "code",
        "outputId": "400cd3e9-ce9f-421a-ada9-aa51b9d3aff9",
        "colab": {
          "base_uri": "https://localhost:8080/",
          "height": 1428
        }
      },
      "source": [
        "from keras.callbacks import ModelCheckpoint\n",
        "\n",
        "checkpointer = ModelCheckpoint(filepath='model.weights.best.hdf5', verbose = 1, save_best_only=True)\n",
        "checkpointer_large = ModelCheckpoint(filepath='model_large.weights.best.hdf5', verbose = 1, save_best_only=True)\n",
        "model.fit(x_train,\n",
        "         y_train,\n",
        "         batch_size=64,\n",
        "         epochs=10,\n",
        "         validation_data=(x_valid, y_valid),\n",
        "         callbacks=[checkpointer])\n",
        "\n",
        "\n",
        "model_large.fit(x_train,\n",
        "         y_train,\n",
        "         batch_size=64,\n",
        "         epochs=10,\n",
        "         validation_data=(x_valid, y_valid),\n",
        "         callbacks=[checkpointer_large])"
      ],
      "execution_count": 0,
      "outputs": [
        {
          "output_type": "stream",
          "text": [
            "Train on 55000 samples, validate on 5000 samples\n",
            "Epoch 1/10\n",
            "54912/55000 [============================>.] - ETA: 0s - loss: 0.6046 - acc: 0.7769\n",
            "Epoch 00001: val_loss improved from inf to 0.38444, saving model to model.weights.best.hdf5\n",
            "55000/55000 [==============================] - 11s 194us/step - loss: 0.6041 - acc: 0.7771 - val_loss: 0.3844 - val_acc: 0.8632\n",
            "Epoch 2/10\n",
            "54720/55000 [============================>.] - ETA: 0s - loss: 0.4165 - acc: 0.8488\n",
            "Epoch 00002: val_loss improved from 0.38444 to 0.32371, saving model to model.weights.best.hdf5\n",
            "55000/55000 [==============================] - 9s 172us/step - loss: 0.4166 - acc: 0.8488 - val_loss: 0.3237 - val_acc: 0.8826\n",
            "Epoch 3/10\n",
            "54720/55000 [============================>.] - ETA: 0s - loss: 0.3731 - acc: 0.8645\n",
            "Epoch 00003: val_loss improved from 0.32371 to 0.29404, saving model to model.weights.best.hdf5\n",
            "55000/55000 [==============================] - 9s 172us/step - loss: 0.3732 - acc: 0.8644 - val_loss: 0.2940 - val_acc: 0.8916\n",
            "Epoch 4/10\n",
            "54784/55000 [============================>.] - ETA: 0s - loss: 0.3468 - acc: 0.8725\n",
            "Epoch 00004: val_loss improved from 0.29404 to 0.27929, saving model to model.weights.best.hdf5\n",
            "55000/55000 [==============================] - 10s 175us/step - loss: 0.3465 - acc: 0.8725 - val_loss: 0.2793 - val_acc: 0.8996\n",
            "Epoch 5/10\n",
            "54848/55000 [============================>.] - ETA: 0s - loss: 0.3264 - acc: 0.8797\n",
            "Epoch 00005: val_loss improved from 0.27929 to 0.27472, saving model to model.weights.best.hdf5\n",
            "55000/55000 [==============================] - 10s 174us/step - loss: 0.3264 - acc: 0.8798 - val_loss: 0.2747 - val_acc: 0.9030\n",
            "Epoch 6/10\n",
            "54912/55000 [============================>.] - ETA: 0s - loss: 0.3135 - acc: 0.8831\n",
            "Epoch 00006: val_loss improved from 0.27472 to 0.25534, saving model to model.weights.best.hdf5\n",
            "55000/55000 [==============================] - 10s 173us/step - loss: 0.3135 - acc: 0.8831 - val_loss: 0.2553 - val_acc: 0.9050\n",
            "Epoch 7/10\n",
            "54912/55000 [============================>.] - ETA: 0s - loss: 0.3016 - acc: 0.8881\n",
            "Epoch 00007: val_loss improved from 0.25534 to 0.25027, saving model to model.weights.best.hdf5\n",
            "55000/55000 [==============================] - 10s 174us/step - loss: 0.3016 - acc: 0.8881 - val_loss: 0.2503 - val_acc: 0.9078\n",
            "Epoch 8/10\n",
            "54720/55000 [============================>.] - ETA: 0s - loss: 0.2892 - acc: 0.8934\n",
            "Epoch 00008: val_loss improved from 0.25027 to 0.24657, saving model to model.weights.best.hdf5\n",
            "55000/55000 [==============================] - 10s 173us/step - loss: 0.2891 - acc: 0.8934 - val_loss: 0.2466 - val_acc: 0.9048\n",
            "Epoch 9/10\n",
            "54784/55000 [============================>.] - ETA: 0s - loss: 0.2837 - acc: 0.8952\n",
            "Epoch 00009: val_loss improved from 0.24657 to 0.23321, saving model to model.weights.best.hdf5\n",
            "55000/55000 [==============================] - 10s 173us/step - loss: 0.2837 - acc: 0.8952 - val_loss: 0.2332 - val_acc: 0.9146\n",
            "Epoch 10/10\n",
            "54912/55000 [============================>.] - ETA: 0s - loss: 0.2721 - acc: 0.8985\n",
            "Epoch 00010: val_loss improved from 0.23321 to 0.22609, saving model to model.weights.best.hdf5\n",
            "55000/55000 [==============================] - 10s 174us/step - loss: 0.2722 - acc: 0.8984 - val_loss: 0.2261 - val_acc: 0.9198\n",
            "Train on 55000 samples, validate on 5000 samples\n",
            "Epoch 1/10\n",
            "54976/55000 [============================>.] - ETA: 0s - loss: 0.6776 - acc: 0.7829\n",
            "Epoch 00001: val_loss improved from inf to 0.36301, saving model to model_large.weights.best.hdf5\n",
            "55000/55000 [==============================] - 29s 527us/step - loss: 0.6774 - acc: 0.7830 - val_loss: 0.3630 - val_acc: 0.8760\n",
            "Epoch 2/10\n",
            "54976/55000 [============================>.] - ETA: 0s - loss: 0.3973 - acc: 0.8586\n",
            "Epoch 00002: val_loss improved from 0.36301 to 0.28662, saving model to model_large.weights.best.hdf5\n",
            "55000/55000 [==============================] - 27s 488us/step - loss: 0.3973 - acc: 0.8586 - val_loss: 0.2866 - val_acc: 0.8948\n",
            "Epoch 3/10\n",
            "54976/55000 [============================>.] - ETA: 0s - loss: 0.3334 - acc: 0.8811\n",
            "Epoch 00003: val_loss improved from 0.28662 to 0.28298, saving model to model_large.weights.best.hdf5\n",
            "55000/55000 [==============================] - 27s 488us/step - loss: 0.3334 - acc: 0.8811 - val_loss: 0.2830 - val_acc: 0.8956\n",
            "Epoch 4/10\n",
            "54976/55000 [============================>.] - ETA: 0s - loss: 0.3092 - acc: 0.8882\n",
            "Epoch 00004: val_loss improved from 0.28298 to 0.25280, saving model to model_large.weights.best.hdf5\n",
            "55000/55000 [==============================] - 27s 488us/step - loss: 0.3092 - acc: 0.8882 - val_loss: 0.2528 - val_acc: 0.9054\n",
            "Epoch 5/10\n",
            "54976/55000 [============================>.] - ETA: 0s - loss: 0.2826 - acc: 0.8978\n",
            "Epoch 00005: val_loss improved from 0.25280 to 0.25083, saving model to model_large.weights.best.hdf5\n",
            "55000/55000 [==============================] - 27s 490us/step - loss: 0.2826 - acc: 0.8978 - val_loss: 0.2508 - val_acc: 0.9102\n",
            "Epoch 6/10\n",
            "54976/55000 [============================>.] - ETA: 0s - loss: 0.2680 - acc: 0.9030\n",
            "Epoch 00006: val_loss improved from 0.25083 to 0.24714, saving model to model_large.weights.best.hdf5\n",
            "55000/55000 [==============================] - 27s 488us/step - loss: 0.2680 - acc: 0.9029 - val_loss: 0.2471 - val_acc: 0.9122\n",
            "Epoch 7/10\n",
            "54976/55000 [============================>.] - ETA: 0s - loss: 0.2595 - acc: 0.9065\n",
            "Epoch 00007: val_loss did not improve from 0.24714\n",
            "55000/55000 [==============================] - 27s 486us/step - loss: 0.2595 - acc: 0.9064 - val_loss: 0.2475 - val_acc: 0.9154\n",
            "Epoch 8/10\n",
            "54976/55000 [============================>.] - ETA: 0s - loss: 0.2420 - acc: 0.9130\n",
            "Epoch 00008: val_loss improved from 0.24714 to 0.21690, saving model to model_large.weights.best.hdf5\n",
            "55000/55000 [==============================] - 27s 488us/step - loss: 0.2419 - acc: 0.9130 - val_loss: 0.2169 - val_acc: 0.9194\n",
            "Epoch 9/10\n",
            "54976/55000 [============================>.] - ETA: 0s - loss: 0.2291 - acc: 0.9168\n",
            "Epoch 00009: val_loss did not improve from 0.21690\n",
            "55000/55000 [==============================] - 27s 488us/step - loss: 0.2291 - acc: 0.9168 - val_loss: 0.2727 - val_acc: 0.9106\n",
            "Epoch 10/10\n",
            "54976/55000 [============================>.] - ETA: 0s - loss: 0.2199 - acc: 0.9189\n",
            "Epoch 00010: val_loss did not improve from 0.21690\n",
            "55000/55000 [==============================] - 27s 487us/step - loss: 0.2199 - acc: 0.9189 - val_loss: 0.2236 - val_acc: 0.9192\n"
          ],
          "name": "stdout"
        },
        {
          "output_type": "execute_result",
          "data": {
            "text/plain": [
              "<tensorflow.python.keras.callbacks.History at 0x7f9db2aea2e8>"
            ]
          },
          "metadata": {
            "tags": []
          },
          "execution_count": 15
        }
      ]
    },
    {
      "cell_type": "markdown",
      "metadata": {
        "id": "e-MGLwZQy05d",
        "colab_type": "text"
      },
      "source": [
        "## 將最好的validation accuracy之模型取出"
      ]
    },
    {
      "cell_type": "code",
      "metadata": {
        "id": "UD1tecxUZZhE",
        "colab_type": "code",
        "colab": {}
      },
      "source": [
        "# Load the weights with the best validation accuracy\n",
        "# model.load_weights('model.weights.best.hdf5')\n",
        "model_large.load_weights('model_large.weights.best.hdf5')\n",
        "model.load_weights('model.weights.best.hdf5')"
      ],
      "execution_count": 0,
      "outputs": []
    },
    {
      "cell_type": "markdown",
      "metadata": {
        "id": "9RTRkan4yq5H",
        "colab_type": "text"
      },
      "source": [
        "## 用剩下的test資料集判斷test資料準確度"
      ]
    },
    {
      "cell_type": "code",
      "metadata": {
        "id": "VZtqBqFFy62R",
        "colab_type": "code",
        "outputId": "dc7601aa-6a10-4afe-eacb-f1f550a64f06",
        "colab": {
          "base_uri": "https://localhost:8080/",
          "height": 85
        }
      },
      "source": [
        "# Evaluate the model on test set\n",
        "score = model.evaluate(x_test, y_test, verbose=0)\n",
        "score_large  = model_large.evaluate(x_test, y_test, verbose=0)\n",
        "# Print test accuracy\n",
        "print('\\n', 'Test accuracy:', score[1])\n",
        "print('\\n', 'Test accuracy of large model:', score_large[1])"
      ],
      "execution_count": 0,
      "outputs": [
        {
          "output_type": "stream",
          "text": [
            "\n",
            " Test accuracy: 0.9098\n",
            "\n",
            " Test accuracy of large model: 0.9115\n"
          ],
          "name": "stdout"
        }
      ]
    },
    {
      "cell_type": "markdown",
      "metadata": {
        "id": "oJv7XEk10bOv",
        "colab_type": "text"
      },
      "source": [
        "## 將預測結果視覺化\n",
        "讓我們用剛剛訓練好的模型預測並視覺圖像化。\n",
        "首先我們將預測值轉成類別標籤。接著我們印出前15張預測照片並附註預測結果於文字上。紅色代表預測失準，綠色則代表成功。\n"
      ]
    },
    {
      "cell_type": "code",
      "metadata": {
        "id": "QwNmlfIC0YxM",
        "colab_type": "code",
        "outputId": "6f0ab698-526d-4c66-8049-9b8b3074d884",
        "colab": {
          "base_uri": "https://localhost:8080/",
          "height": 481
        }
      },
      "source": [
        "y_hat = model_large.predict(x_test)\n",
        "\n",
        "# Plot a random sample of 10 test images, their predicted labels and ground truth\n",
        "figure = plt.figure(figsize=(20, 8))\n",
        "for i, index in enumerate(np.random.choice(x_test.shape[0], size=15, replace=False)):\n",
        "    ax = figure.add_subplot(3, 5, i + 1, xticks=[], yticks=[])\n",
        "    # Display each image\n",
        "    ax.imshow(np.squeeze(x_test[index]))\n",
        "    predict_index = np.argmax(y_hat[index])\n",
        "    true_index = np.argmax(y_test[index])\n",
        "    # Set the title for each image\n",
        "    ax.set_title(\"{} ({})\".format(fashion_mnist_labels[predict_index], \n",
        "                                  fashion_mnist_labels[true_index]),\n",
        "                                  color=(\"green\" if predict_index == true_index else \"red\"))"
      ],
      "execution_count": 0,
      "outputs": [
        {
          "output_type": "display_data",
          "data": {
            "image/png": "[encoded data removed]",
            "text/plain": [
              "<matplotlib.figure.Figure at 0x7f9db02e3828>"
            ]
          },
          "metadata": {
            "tags": []
          }
        }
      ]
    }
  ]
}